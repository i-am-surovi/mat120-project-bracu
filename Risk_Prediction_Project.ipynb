{
  "nbformat": 4,
  "nbformat_minor": 0,
  "metadata": {
    "colab": {
      "provenance": []
    },
    "kernelspec": {
      "name": "python3",
      "display_name": "Python 3"
    },
    "language_info": {
      "name": "python"
    }
  },
  "cells": [
    {
      "cell_type": "markdown",
      "source": [
        "# **Calculate Value at Risk (VaR) in Risk Management**\n",
        "With the concept of Monte Carlo Method"
      ],
      "metadata": {
        "id": "Qx8ntx3fN1Is"
      }
    },
    {
      "cell_type": "markdown",
      "source": [
        "There are **3** components to a VaR measurement.           \n",
        "1) A Time Frame\\\n",
        "2) A Confidence Level\\\n",
        "3) A Loss Amount"
      ],
      "metadata": {
        "id": "UAir8LRY9U-m"
      }
    },
    {
      "cell_type": "markdown",
      "source": [
        "## What we are going to do\n",
        "\n"
      ],
      "metadata": {
        "id": "tf6QULNG-t3o"
      }
    },
    {
      "cell_type": "markdown",
      "source": [
        "Here we are showing,\\\n",
        "at **99 % confidence level**, What is the most amount or percentage that can be expected to be **lost** on the investment over **the next week**."
      ],
      "metadata": {
        "id": "RuTlqSlo_bFa"
      }
    },
    {
      "cell_type": "markdown",
      "source": [
        "##Import necessary Libraries"
      ],
      "metadata": {
        "id": "Mxx6ggPxOYe9"
      }
    },
    {
      "cell_type": "code",
      "source": [
        "import numpy as np        # Used for numerical calculations easily\n",
        "import pandas as pd       # Used for building a dataframe\n",
        "import datetime as dt     # Used for the date-time information\n",
        "import yfinance as yf     # Used for convenient access to the Yahoo Finance API to download historical stock data\n",
        "import matplotlib.pyplot as plt\n",
        "from scipy.stats import norm  # Used for a normal continuous random variable"
      ],
      "metadata": {
        "id": "0G7sdt6zmp08"
      },
      "execution_count": null,
      "outputs": []
    },
    {
      "cell_type": "markdown",
      "source": [
        "## Set Time Frame from to a certain number of years"
      ],
      "metadata": {
        "id": "RXKnMSOWQdAL"
      }
    },
    {
      "cell_type": "code",
      "source": [
        "years = 15                                             # We set 15 years as time frame\n",
        "endDate = dt.datetime.now()                            # Give today's Date\n",
        "startDate = endDate - dt.timedelta(days = 365*years)"
      ],
      "metadata": {
        "id": "tlnxZq7cQb4k"
      },
      "execution_count": null,
      "outputs": []
    },
    {
      "cell_type": "markdown",
      "source": [
        "## Create a list of Tickers\n",
        "A ticker is a type of stock symbol that describes information about the stock of a company."
      ],
      "metadata": {
        "id": "KwH2aoNWSAz8"
      }
    },
    {
      "cell_type": "code",
      "source": [
        "tickers = ['SPY', 'BND', 'GLD', 'QQQ', 'VTI']\n",
        "\n",
        "# Largest companies of Yahoo Finance\n",
        "\n",
        "# SPDR S&P 500 ETF Trust - 'SPY'\n",
        "# Vanguard Total Bond Market Index Fund - 'BND'\n",
        "# SPDR Gold Shares - 'GLD'\n",
        "# Invesco QQQ Trust - 'QQQ'\n",
        "# Vanguard Total Stock Market Index Fund - 'VTI'"
      ],
      "metadata": {
        "id": "Zz2CsuesSK8D"
      },
      "execution_count": null,
      "outputs": []
    },
    {
      "cell_type": "markdown",
      "source": [
        "## Download the daily adjusted close prices for the tickers"
      ],
      "metadata": {
        "id": "udoxLYunTwqg"
      }
    },
    {
      "cell_type": "code",
      "source": [
        "adj_close_df = pd.DataFrame()\n",
        "\n",
        "for ticker in tickers:\n",
        "  data = yf.download(ticker, start = startDate, end = endDate)\n",
        "  adj_close_df[ticker] = data['Adj Close']\n",
        "print(adj_close_df)"
      ],
      "metadata": {
        "colab": {
          "base_uri": "https://localhost:8080/"
        },
        "id": "rLEQURjwTvlx",
        "outputId": "770a79fe-65ff-4614-e5f8-72e1515cf8b6"
      },
      "execution_count": null,
      "outputs": [
        {
          "output_type": "stream",
          "name": "stdout",
          "text": [
            "[*********************100%%**********************]  1 of 1 completed\n",
            "[*********************100%%**********************]  1 of 1 completed\n",
            "[*********************100%%**********************]  1 of 1 completed\n",
            "[*********************100%%**********************]  1 of 1 completed\n",
            "[*********************100%%**********************]  1 of 1 completed\n",
            "                   SPY        BND         GLD         QQQ         VTI\n",
            "Date                                                                 \n",
            "2008-09-03   95.489243  49.465004   78.889999   39.499550   48.343330\n",
            "2008-09-04   92.614403  49.490921   78.389999   38.221416   46.860569\n",
            "2008-09-05   92.905640  49.529778   78.980003   38.037579   47.139061\n",
            "2008-09-08   94.824669  49.879559   78.860001   37.967548   47.959465\n",
            "2008-09-09   92.009590  49.970257   76.489998   37.162151   46.296070\n",
            "...                ...        ...         ...         ...         ...\n",
            "2023-08-24  436.890015  71.089996  177.850006  361.220001  217.110001\n",
            "2023-08-25  439.970001  71.089996  177.619995  364.019989  218.589996\n",
            "2023-08-28  442.760010  71.220001  178.130005  366.760010  219.990005\n",
            "2023-08-29  449.160004  71.660004  179.869995  374.769989  223.190002\n",
            "2023-08-30  451.010010  71.629997  180.320007  376.859985  224.179993\n",
            "\n",
            "[3774 rows x 5 columns]\n"
          ]
        }
      ]
    },
    {
      "cell_type": "markdown",
      "source": [
        "## Calculate the daily log returns and drop any NAs"
      ],
      "metadata": {
        "id": "7Gp2LhK0QKDc"
      }
    },
    {
      "cell_type": "code",
      "source": [
        "log_returns = np.log(adj_close_df/adj_close_df.shift(1))\n",
        "log_returns = log_returns.dropna()  # For First Row\n",
        "\n",
        "print(log_returns)"
      ],
      "metadata": {
        "colab": {
          "base_uri": "https://localhost:8080/"
        },
        "id": "mqhVGszFQJat",
        "outputId": "7decee8e-aa9c-497a-8843-465bfeb9df10"
      },
      "execution_count": null,
      "outputs": [
        {
          "output_type": "stream",
          "name": "stdout",
          "text": [
            "                 SPY       BND       GLD       QQQ       VTI\n",
            "Date                                                        \n",
            "2008-09-04 -0.030569  0.000524 -0.006358 -0.032893 -0.031152\n",
            "2008-09-05  0.003140  0.000785  0.007498 -0.004821  0.005925\n",
            "2008-09-08  0.020445  0.007037 -0.001521 -0.001843  0.017254\n",
            "2008-09-09 -0.030137  0.001817 -0.030514 -0.021441 -0.035299\n",
            "2008-09-10  0.004050  0.000000 -0.030126  0.008211  0.006643\n",
            "...              ...       ...       ...       ...       ...\n",
            "2023-08-24 -0.013956 -0.002389 -0.000225 -0.021607 -0.013496\n",
            "2023-08-25  0.007025  0.000000 -0.001294  0.007722  0.006794\n",
            "2023-08-28  0.006321  0.001827  0.002867  0.007499  0.006384\n",
            "2023-08-29  0.014351  0.006159  0.009721  0.021605  0.014441\n",
            "2023-08-30  0.004110 -0.000419  0.002499  0.005561  0.004426\n",
            "\n",
            "[3773 rows x 5 columns]\n"
          ]
        }
      ]
    },
    {
      "cell_type": "markdown",
      "source": [
        "## Create a function that will be used to calculate portfolio expected return\n",
        "\n",
        "*We are assuming that future returns are based on past returns which is not a reliable assumption."
      ],
      "metadata": {
        "id": "5TASQ5LNRVTj"
      }
    },
    {
      "cell_type": "code",
      "source": [
        "# The expected return is the amount of profit or loss an investor can anticipate receiving on an investment.\n",
        "# The expected return for a portfolio containing multiple investments is the weighted average of the expected return of each of the investments.\n",
        "\n",
        "def expected_return(weights, log_returns):\n",
        "  return np.sum(log_returns.mean()*weights) # For Average return"
      ],
      "metadata": {
        "id": "PUGUEhuiTLBy"
      },
      "execution_count": null,
      "outputs": []
    },
    {
      "cell_type": "markdown",
      "source": [
        "## Create a function that will be used to calculate portfolio standard deviation"
      ],
      "metadata": {
        "id": "BuLh3EYPUB-9"
      }
    },
    {
      "cell_type": "code",
      "source": [
        "def standard_deviation (weights, cov_matrix):\n",
        "  variance = weights.T @ cov_matrix @ weights  # We convert Transpose matrix then multiply\n",
        "  return np.sqrt(variance) # Standard Deviation\n"
      ],
      "metadata": {
        "id": "kPzGcwCQUVMP"
      },
      "execution_count": null,
      "outputs": []
    },
    {
      "cell_type": "markdown",
      "source": [
        "## Create a covariance matrix for all the securities"
      ],
      "metadata": {
        "id": "Xzpy4yGnVv6X"
      }
    },
    {
      "cell_type": "code",
      "source": [
        "# A covariance matrix takes into accout the covariances and correlations of every single stock within the portfolio and correlations with each other\n",
        "cov_matrix = log_returns.cov()\n",
        "print(cov_matrix)"
      ],
      "metadata": {
        "colab": {
          "base_uri": "https://localhost:8080/"
        },
        "id": "lp6jEVvcV2Qd",
        "outputId": "edeacc91-0fef-4690-8955-33fac1f6d6c2"
      },
      "execution_count": null,
      "outputs": [
        {
          "output_type": "stream",
          "name": "stdout",
          "text": [
            "              SPY           BND       GLD           QQQ           VTI\n",
            "SPY  1.673430e-04  2.000823e-07  0.000007  1.714180e-04  1.680282e-04\n",
            "BND  2.000823e-07  1.074542e-05  0.000009 -7.844535e-08  1.348427e-07\n",
            "GLD  7.323669e-06  8.744443e-06  0.000118  6.335888e-06  8.506707e-06\n",
            "QQQ  1.714180e-04 -7.844535e-08  0.000006  2.044555e-04  1.734894e-04\n",
            "VTI  1.680282e-04  1.348427e-07  0.000009  1.734894e-04  1.708027e-04\n"
          ]
        }
      ]
    },
    {
      "cell_type": "markdown",
      "source": [
        "## Create an equally weighted portfolio and find total portfolio expected return and standard deviation"
      ],
      "metadata": {
        "id": "ORTrvTQoWcQ7"
      }
    },
    {
      "cell_type": "code",
      "source": [
        "portfolio_value = 1000000  # 1 Million Dollars\n",
        "weights = np.array([1/len(tickers)]*len(tickers))  # 20 % each as there are 5 tickers\n",
        "portfolio_expected_return = expected_return(weights, log_returns)\n",
        "portfolio_std_dev = standard_deviation (weights, cov_matrix)"
      ],
      "metadata": {
        "id": "H65xOXQkZqcs"
      },
      "execution_count": null,
      "outputs": []
    },
    {
      "cell_type": "markdown",
      "source": [
        "# Create a function that gives a random Z-score based on normal distribution"
      ],
      "metadata": {
        "id": "dBt1oDIwbE0h"
      }
    },
    {
      "cell_type": "code",
      "source": [
        "# In a normal distribution the (mean is zero) and the (standard deviation is 1).\n",
        "# Z-score is a metric that reveals how likely a company is going to be bankrupt or insolvent\n",
        "\n",
        "#Z score acts as a multiplier on the standard deviation value and it's what determines the confidence level that we are using for our value at risk.\n",
        "#Here we have value at risk with a 99 percent confidence and it's the z score itself that determines that confidence level\n",
        "\n",
        "def random_z_score():\n",
        "  return np.random.normal(0,1)"
      ],
      "metadata": {
        "id": "USylrrMIbEKw"
      },
      "execution_count": null,
      "outputs": []
    },
    {
      "cell_type": "markdown",
      "source": [
        "## Create a function to calculate Scenario Gain Loss"
      ],
      "metadata": {
        "id": "wJ32sfYqb2br"
      }
    },
    {
      "cell_type": "code",
      "source": [
        "days = 30    # VaR is always calculated on certain number of time period\n",
        "\n",
        "def  scenario_gain_loss(portfolio_value, portfolio_std_dev, z_score, days):\n",
        "  return portfolio_value*portfolio_expected_return*days + portfolio_value*portfolio_std_dev*z_score*np.sqrt(days)\n",
        "\n",
        "# (Typical Expected return) - (adding either negative or positive based on Z-scores )"
      ],
      "metadata": {
        "id": "JUtEF2jocG_i"
      },
      "execution_count": null,
      "outputs": []
    },
    {
      "cell_type": "markdown",
      "source": [
        "# Run 10,000 Simulations with Monte Carlo Method"
      ],
      "metadata": {
        "id": "0l1xxJMJd3OP"
      }
    },
    {
      "cell_type": "code",
      "source": [
        "simulations = 10000\n",
        "scenarioReturn = []\n",
        "\n",
        "for i in range(simulations):\n",
        "  z_score = random_z_score()\n",
        "  scenarioReturn.append(scenario_gain_loss(portfolio_value, portfolio_std_dev, z_score, days))"
      ],
      "metadata": {
        "id": "kdjdUl7id_UJ"
      },
      "execution_count": null,
      "outputs": []
    },
    {
      "cell_type": "markdown",
      "source": [
        "## Specify a confidence interval and calculate the Value at Risk (VaR)"
      ],
      "metadata": {
        "id": "B09vt6aEewyM"
      }
    },
    {
      "cell_type": "code",
      "source": [
        "# The higher we set our confidence interval the greater our value at risk will be\n",
        "# because we will move further out into the tail of the distribution\n",
        "\n",
        "confidence_interval = 0.99   # 99 %\n",
        "VaR = -np.percentile(scenarioReturn, 100*(1 - confidence_interval))\n",
        "print(VaR)\n"
      ],
      "metadata": {
        "colab": {
          "base_uri": "https://localhost:8080/"
        },
        "id": "gtSrSjzvfHEA",
        "outputId": "688c3541-320b-4a6b-a10d-b19f8a78eba0"
      },
      "execution_count": null,
      "outputs": [
        {
          "output_type": "stream",
          "name": "stdout",
          "text": [
            "97373.86677156267\n"
          ]
        }
      ]
    },
    {
      "cell_type": "markdown",
      "source": [
        "## Plot the results of all 10000 scenarios"
      ],
      "metadata": {
        "id": "6Mnyw9VRhuRh"
      }
    },
    {
      "cell_type": "code",
      "source": [
        "plt.hist(scenarioReturn, bins = 30, density = True)\n",
        "plt.xlabel('Scenario Gain/Loss ($)')\n",
        "plt.ylabel('Frequency')\n",
        "plt.title(f'Distribution of Portfolio Gain/Loss Over next {days} Days\\n')\n",
        "plt.axvline(-VaR, color = 'r', linestyle = 'dashed', linewidth = 2, label = f'VaR at {confidence_interval:0%} confidence level')\n",
        "plt.legend()\n",
        "plt.show()\n"
      ],
      "metadata": {
        "colab": {
          "base_uri": "https://localhost:8080/",
          "height": 508
        },
        "id": "kYnLCSj2h02j",
        "outputId": "ccaadef1-ab98-4312-81e9-8b55e505175f"
      },
      "execution_count": null,
      "outputs": [
        {
          "output_type": "display_data",
          "data": {
            "text/plain": [
              "<Figure size 640x480 with 1 Axes>"
            ],
            "image/png": "[encoded data removed]"
          },
          "metadata": {}
        }
      ]
    },
    {
      "cell_type": "code",
      "source": [],
      "metadata": {
        "id": "5rwV9hdCmFRG"
      },
      "execution_count": null,
      "outputs": []
    }
  ]
}